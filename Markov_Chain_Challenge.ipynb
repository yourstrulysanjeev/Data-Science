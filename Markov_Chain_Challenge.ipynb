{
 "cells": [
  {
   "cell_type": "code",
   "execution_count": 0,
   "metadata": {
    "colab": {},
    "colab_type": "code",
    "id": "DafAn2Qt1to8"
   },
   "outputs": [],
   "source": [
    "text_file = 'Apna Time Aayega.txt'"
   ]
  },
  {
   "cell_type": "code",
   "execution_count": 0,
   "metadata": {
    "colab": {},
    "colab_type": "code",
    "id": "hQNSCP-f2vxb"
   },
   "outputs": [],
   "source": [
    "def load_text(file_name):\n",
    "  with open(file_name,encoding='utf8') as f:\n",
    "    return f.read()"
   ]
  },
  {
   "cell_type": "code",
   "execution_count": 0,
   "metadata": {
    "colab": {},
    "colab_type": "code",
    "id": "IH8u3Qs43PjX"
   },
   "outputs": [],
   "source": [
    "text = load_text(text_file)"
   ]
  },
  {
   "cell_type": "code",
   "execution_count": 0,
   "metadata": {
    "colab": {},
    "colab_type": "code",
    "id": "ZcbG584P3TqR"
   },
   "outputs": [],
   "source": [
    "text = text.lower()\n",
    "#text = text[17:]"
   ]
  },
  {
   "cell_type": "code",
   "execution_count": 0,
   "metadata": {
    "colab": {},
    "colab_type": "code",
    "id": "PS53Fstq6YtI"
   },
   "outputs": [],
   "source": [
    "#text = text[:len(text)-17]"
   ]
  },
  {
   "cell_type": "code",
   "execution_count": 175,
   "metadata": {
    "colab": {
     "base_uri": "https://localhost:8080/",
     "height": 54
    },
    "colab_type": "code",
    "id": "K_erMdc4zM4D",
    "outputId": "847ce939-92ce-4cac-fbda-31e33643405b"
   },
   "outputs": [
    {
     "data": {
      "text/plain": [
       "'apna time aayega\\nuth ja apni raakh se\\ntu udd ja ab talaash mein\\nparwaaz dekh parwane ki\\naasman bhi sar uthayega\\naayega apna time aayega\\nmere jaisa shaana lala\\ntujhe na mil payega\\n \\nyeh shabdon ka jwala\\nmeri bediyan pighlayega\\njitna toone boya hai tu\\nutna hi to khaayega\\naisa mera khwaab hai\\njo darr ko bhi satayega\\nzinda mera khwaab\\nab kaise tu dafnayega\\n \\nab hausle se jeene de\\nab khauf nahi hai seene mein\\nhar raaste ko cheerenge\\nhum kaamyabi chheenenge\\nsab kuchh mila paseene se\\nmatlab bana ab jeene mein\\n \\nkyon\\nkyon ki apna time aayega\\n \\ntu nanga hi to aaya hai\\nkya ghanta lekar jaayega\\napna time aayega\\napna time aayega\\napna time aayega x (2)\\n \\ntu nanga hi to aaya hai\\nkya ghanta lekar..\\n \\nkissi ka hath nahi tha sar par\\nyahaan par aaya khud ki mehnat se main\\njitni taakat kismat mein nahi\\nutni rehmat mein hai\\nphir bhi ladka sehmat nahin hai\\nkyon ki hairat nahi hai\\nzaroorat yahaan marzi ki\\naur jurrat ki hai\\n \\ntaakat ki hai, aafat ki\\nhimaakat ki, ibaadat ki\\nadalat yeh hai chahat ki\\nmohobbat ki, amaanat ki\\njeetne ki ab aadat ki hai\\nshohrat ki ab laalach nai hai\\ntere bhai jaisa koyi hard’ch nai hai\\n \\niss harkat ne hi barkat di hai\\nkyon?\\n \\ntu nanga hi to aaya hai\\nkya ghanta lekar jaayega\\napna time aayega\\napna time aayega\\napna time aayega\\n \\ntu nanga hi to aaya hai\\nkya ghanta lekar jaayega\\nkya tu ghanta lekar jaayega\\napna time aayega\\napna time aayega'"
      ]
     },
     "execution_count": 175,
     "metadata": {
      "tags": []
     },
     "output_type": "execute_result"
    }
   ],
   "source": [
    "text"
   ]
  },
  {
   "cell_type": "code",
   "execution_count": 0,
   "metadata": {
    "colab": {},
    "colab_type": "code",
    "id": "2_j3RUKr7PLm"
   },
   "outputs": [],
   "source": [
    "import numpy as np\n",
    "\n",
    "#np.random.seed(11)\n",
    "\n",
    "class MarkovChain:\n",
    "\n",
    "  def __init__(self,k):\n",
    "    self.K = k\n",
    "  \n",
    "  def train(self,text):\n",
    "    T = {}\n",
    "    k = self.K\n",
    "\n",
    "    for i in range(len(text)-k):\n",
    "      X = text[i:i+k]\n",
    "      Y = text[i+k]\n",
    "\n",
    "      if T.get(X) is None:\n",
    "        T[X] = {}\n",
    "        T[X][Y] = 1\n",
    "      else:\n",
    "        if T[X].get(Y) is None:\n",
    "          T[X][Y] = 1\n",
    "        else:\n",
    "          T[X][Y] += 1\n",
    "    \n",
    "    for kx in T.keys():\n",
    "      total_sum = sum(T[kx].values())\n",
    "      \n",
    "      for ky in T[kx].keys():\n",
    "        T[kx][ky] = T[kx][ky]/total_sum\n",
    "    \n",
    "    self.transition_table = T\n",
    "  \n",
    "  def sample_next(self,ctx):\n",
    "    k = self.K\n",
    "    T = self.transition_table\n",
    "\n",
    "    if T.get(ctx) is None:\n",
    "      return ' '\n",
    "    possible_chrs = list(T[ctx].keys())\n",
    "    possible_values = list(T[ctx].values())\n",
    "    pred = np.random.choice(possible_chrs,p=possible_values)\n",
    "    return pred\n",
    "  \n",
    "  def generate_text(self,starting_sent,maxLen=2000):\n",
    "    k = self.K\n",
    "    sent = starting_sent\n",
    "    ctx = starting_sent[-k:]\n",
    "    np.random.seed(11)\n",
    "\n",
    "    for _ in range(maxLen):\n",
    "      pred_next = self.sample_next(ctx)\n",
    "      sent += pred_next\n",
    "      ctx = sent[-k:]\n",
    "    \n",
    "    return sent"
   ]
  },
  {
   "cell_type": "code",
   "execution_count": 0,
   "metadata": {
    "colab": {},
    "colab_type": "code",
    "id": "ko3UVENS3aEq"
   },
   "outputs": [],
   "source": [
    "model = MarkovChain(k=4)\n",
    "model.train(text)"
   ]
  },
  {
   "cell_type": "code",
   "execution_count": 0,
   "metadata": {
    "colab": {},
    "colab_type": "code",
    "id": "NzMgDuiFDYEi"
   },
   "outputs": [],
   "source": [
    "text_generated = model.generate_text('apna')"
   ]
  },
  {
   "cell_type": "code",
   "execution_count": 187,
   "metadata": {
    "colab": {
     "base_uri": "https://localhost:8080/",
     "height": 54
    },
    "colab_type": "code",
    "id": "Exrilvo5uArx",
    "outputId": "93cf8795-26d4-47e0-f30a-d1b237f7dd8b"
   },
   "outputs": [
    {
     "data": {
      "text/plain": [
       "'apna time aaya hath nahi\\nutna hi to aaya hai seene se\\nmatlab bana lala\\nmere bhai tu\\nutna time aaya hai\\nphir bhi satayega\\nzinda mera khud ki hai, amaana lala\\ntujhe na mila paseene se jeenenge\\nsab kuchh mil payega\\njitni rehmat mein\\nhar raakh se\\ntu nanga hi to khauf nahin hai jaisa koyi hai seene mein nahi hai\\nkyon ki ab laalach nai hai\\nkya ghanta lekar jaayega\\nkya tu dafnayega\\napna time aayega\\nkya tu ghanta lekar..\\n \\nkyon\\nkyon ka hai\\nkya ghanta lekar jaayega\\napna time aayega\\nzinda mera khwaab hai chheene mein\\n \\nkyon ki hai jaisa shaan pighlayega\\njitni taakat ne hi barkat ki mehnat ki, amaana ab talaash mein\\nparwane ki hai\\njo darr ko bhi ladka sehmat mein nahi\\nutna hi to khaayega\\n \\nyeh shabdon ka hai\\nzaroorat ki\\nhimaakat di hairat ki, ibaadat ki hai\\nkya ghanta lekar jaayega\\napna time aayega\\n \\ntu nanga hi barkat ki\\nadalat yahaan par\\nyahaan marzi ki\\njeetne ki\\njeetne ki mehnat se main\\njitna hi to aayega\\n \\nab hai\\nkya tu dafnayega\\nmere jaisa mera khud ki hai\\nkya ghanta lekar jaayega\\nkya tu ghanta lekar..\\n \\nkissi ka hai\\nkya ghanta lekar..\\n \\nkissi ka jwala\\nmeri bediyan parwaaz dekh par aaya hai\\nkya ghanta lekar jaayega\\naayega\\napna time aayega\\naayega\\napna time aaya hath nai hai\\nzaroorat ki\\nmohobbat ki, aafat ki hai jaisa shaanat ki\\naur jurrat yahaan marzi ki\\nadalat yeh shabdon ki ab aadat ki apna time aaya khwaab\\nab kaise tu ghanta lekar jaayega\\nuth ja ab jeene mein hai\\nphir bhi sar uthayega\\n \\ntaakat ki\\nhimaakat ki mehnat se main\\njitna time aayega\\napna time aayega\\napna time aaya hai\\n \\niss hard’ch nai hai\\nkyon\\nkyon\\nkyon\\nkyon ki mehnat se main\\njitna time aayega\\napna toone boya hai\\nkyon ka jwala\\nmere jaisa shaan pighlayega\\nzinda mera khud ki ab talaash mein\\nparwaaz dekh par\\nyahaan pighlayega\\napna time aayega\\n \\nab kuchh mil payega\\naisa mera khwaab\\nab kuchh mila paseene mein hai\\nshohrat ki ab aadat ki\\nadalat yahaana ab aadat ki\\nmohobbat ki apna time aayega\\nzinda mera khwaab hausle se main\\njitni taakat ne hi tha sar uthayega\\nmeri bediyan pighlayega\\n \\ntu nanga hi to aaya hai\\nphir bhi lad'"
      ]
     },
     "execution_count": 187,
     "metadata": {
      "tags": []
     },
     "output_type": "execute_result"
    }
   ],
   "source": [
    "text_generated"
   ]
  },
  {
   "cell_type": "code",
   "execution_count": 0,
   "metadata": {
    "colab": {},
    "colab_type": "code",
    "id": "vvLhgR_vsQ4n"
   },
   "outputs": [],
   "source": [
    "output_file = open('output.txt','w')"
   ]
  },
  {
   "cell_type": "code",
   "execution_count": 189,
   "metadata": {
    "colab": {
     "base_uri": "https://localhost:8080/",
     "height": 34
    },
    "colab_type": "code",
    "id": "asQ2KXIks3-9",
    "outputId": "5bf512df-08e6-41bd-d6d0-29f96ac7d589"
   },
   "outputs": [
    {
     "data": {
      "text/plain": [
       "2004"
      ]
     },
     "execution_count": 189,
     "metadata": {
      "tags": []
     },
     "output_type": "execute_result"
    }
   ],
   "source": [
    "output_file.write(text_generated)"
   ]
  },
  {
   "cell_type": "code",
   "execution_count": 0,
   "metadata": {
    "colab": {},
    "colab_type": "code",
    "id": "R4zBrz68tMfI"
   },
   "outputs": [],
   "source": [
    "output_file.close()"
   ]
  }
 ],
 "metadata": {
  "accelerator": "GPU",
  "colab": {
   "collapsed_sections": [],
   "name": "Markov_Chain_Challenge",
   "provenance": []
  },
  "kernelspec": {
   "display_name": "Python 3",
   "language": "python",
   "name": "python3"
  },
  "language_info": {
   "codemirror_mode": {
    "name": "ipython",
    "version": 3
   },
   "file_extension": ".py",
   "mimetype": "text/x-python",
   "name": "python",
   "nbconvert_exporter": "python",
   "pygments_lexer": "ipython3",
   "version": "3.8.2"
  }
 },
 "nbformat": 4,
 "nbformat_minor": 1
}
